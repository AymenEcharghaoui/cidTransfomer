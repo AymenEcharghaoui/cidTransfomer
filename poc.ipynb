{
 "cells": [
  {
   "cell_type": "code",
   "execution_count": 1,
   "metadata": {},
   "outputs": [],
   "source": [
    "import torch \n",
    "import torch.nn as nn\n",
    "import torch.nn.functional as F"
   ]
  },
  {
   "cell_type": "code",
   "execution_count": 2,
   "metadata": {},
   "outputs": [],
   "source": [
    "# hyperparameters\n",
    "num_heads = 20\n",
    "n_layer = 20\n",
    "dropout = 0.2\n",
    "n_embd = 100\n",
    "\n",
    "batch_size = 1 # number of independent tasks to be processed in parallel\n",
    "block_size = 1000 # number of points to be processed per task # real block size is twice that value since xs and ys are interleaved \n",
    "\n",
    "max_iters = 6000\n",
    "learning_rate = 3e-4\n",
    "\n",
    "eval_interval = 500\n",
    "eval_iters = 200\n",
    "\n",
    "\n",
    "# data parameters\n",
    "n_dims = 10\n",
    "n_points = 10000\n",
    "n_tasks = 1\n",
    "\n",
    "assert n_embd > num_heads\n",
    "assert block_size < n_points\n",
    "\n",
    "\n",
    "device = torch.device('cuda:1' if torch.cuda.is_available() else 'cpu')"
   ]
  },
  {
   "cell_type": "code",
   "execution_count": 3,
   "metadata": {},
   "outputs": [],
   "source": [
    "# xs and ys (padded with 0s) interleaved \n",
    "data_train = torch.zeros(n_tasks, 2*n_points, n_dims)\n",
    "data_train[:,::2,:] = torch.randn(n_tasks, n_points, n_dims)\n",
    "tasks_data_train = torch.randn(n_tasks, n_dims)\n",
    "data_train[:,1::2,:1] = data_train[:,::2,:] @ tasks_data_train.unsqueeze(-1)\n",
    "data_train = data_train.to(device)\n",
    "\n",
    "data_val = torch.zeros(n_tasks, 2*n_points, n_dims)\n",
    "data_val[:,::2,:] = torch.randn(n_tasks, n_points, n_dims)\n",
    "tasks_data_val = torch.randn(n_tasks, n_dims)\n",
    "data_val[:,1::2,:1] = data_val[:,::2,:] @ tasks_data_val.unsqueeze(-1)\n",
    "data_val = data_val.to(device)"
   ]
  },
  {
   "cell_type": "code",
   "execution_count": 4,
   "metadata": {},
   "outputs": [],
   "source": [
    "def get_batch(split):\n",
    "    data = data_train if split == 'train' else data_val\n",
    "    idx_tasks = torch.randint(0, n_tasks, (batch_size,))\n",
    "    idx_points = torch.randperm(n_points)[:block_size]*2\n",
    "    dummy_tensor = torch.zeros(2*n_points)\n",
    "    dummy_tensor[idx_points] = 1\n",
    "    dummy_tensor[idx_points+1] = 1\n",
    "    idx_points = torch.where(dummy_tensor)[0]\n",
    "    return data[idx_tasks][:, idx_points].to(device)"
   ]
  },
  {
   "cell_type": "code",
   "execution_count": 6,
   "metadata": {},
   "outputs": [],
   "source": [
    "class Head(nn.Module):\n",
    "    # one head of self-attention\n",
    "    def __init__(self, head_size):\n",
    "        super().__init__()\n",
    "        self.key = nn.Linear(n_embd, head_size, bias=False)\n",
    "        self.query = nn.Linear(n_embd, head_size, bias=False)\n",
    "        self.value = nn.Linear(n_embd, head_size, bias=False)\n",
    "        self.register_buffer('tril', torch.tril(torch.ones(2*block_size, 2*block_size))) # used for masking\n",
    "        self.dropout = nn.Dropout(dropout)\n",
    "    def forward(self,x):\n",
    "        # x: batch_size x 2*block_size x n_embd\n",
    "        k = self.key(x) # batch_size x 2*block_size x head_size\n",
    "        q = self.query(x) # batch_size x 2*block_size x head_size\n",
    "        # compute attention scores\n",
    "        wei = q @ k.transpose(-2,-1) * k.shape[-1]**-0.5 # batch_size x 2*block_size x 2*block_size\n",
    "        wei = wei.masked_fill(self.tril == 0, float('-inf')) # batch_size x 2*block_size x 2*block_size\n",
    "        wei = F.softmax(wei, dim=-1)\n",
    "        wei = self.dropout(wei)\n",
    "        # apply attention (weighted aggregation) to values\n",
    "        v = self.value(x) # batch_size x 2*block_size x head_size\n",
    "        out = wei @ v # batch_size x 2*block_size x head_size\n",
    "        return out"
   ]
  },
  {
   "cell_type": "code",
   "execution_count": 7,
   "metadata": {},
   "outputs": [],
   "source": [
    "class MultiHead(nn.Module):\n",
    "    # multiple heads of self-attention\n",
    "    def __init__(self, num_heads, head_size):\n",
    "        super().__init__()\n",
    "        self.heads = nn.ModuleList([Head(head_size) for _ in range(num_heads)])\n",
    "        self.proj = nn.Linear(num_heads*head_size, n_embd)\n",
    "        self.dropout = nn.Dropout(dropout)\n",
    "    def forward(self,x):\n",
    "        out = torch.cat([h(x) for h in self.heads], dim=-1) # batch_size x 2*block_size x (num_heads*head_size)\n",
    "        out = self.dropout(self.proj(out)) # batch_size x 2*block_size x n_embd\n",
    "        return out"
   ]
  },
  {
   "cell_type": "code",
   "execution_count": 8,
   "metadata": {},
   "outputs": [],
   "source": [
    "class FeedForward(nn.Module):\n",
    "    # feed forward network\n",
    "    def __init__(self, n_embd):\n",
    "        super().__init__()\n",
    "        self.net = nn.Sequential(\n",
    "            nn.Linear(n_embd, 4*n_embd),\n",
    "            nn.ReLU(),\n",
    "            nn.Linear(4*n_embd, n_embd),\n",
    "            nn.Dropout(dropout)\n",
    "        )\n",
    "    def forward(self,x):\n",
    "        return self.net(x)  "
   ]
  },
  {
   "cell_type": "code",
   "execution_count": 9,
   "metadata": {},
   "outputs": [],
   "source": [
    "class Block(nn.Module):\n",
    "    def __init__(self, n_embd, num_heads):\n",
    "        super().__init__()\n",
    "        self.ln1 = nn.LayerNorm(n_embd)\n",
    "        self.ln2 = nn.LayerNorm(n_embd)\n",
    "        head_size = n_embd // num_heads\n",
    "        self.mh = MultiHead(num_heads, head_size)\n",
    "        self.ff = FeedForward(n_embd)\n",
    "    def forward(self,x):\n",
    "        x = x + self.mh(self.ln1(x))\n",
    "        x = x + self.ff(self.ln2(x))\n",
    "        return x"
   ]
  },
  {
   "cell_type": "code",
   "execution_count": null,
   "metadata": {},
   "outputs": [],
   "source": [
    "def train_loss(y_true, y_pred):\n",
    "    return F.mse_loss(y_true, y_pred)"
   ]
  },
  {
   "cell_type": "code",
   "execution_count": 10,
   "metadata": {},
   "outputs": [],
   "source": [
    "class GPTModel(nn.Module):\n",
    "    def __init__(self):\n",
    "        super().__init__()\n",
    "        # exchangeable data so no positional embedding\n",
    "        self.blocks = nn.Sequential(*[Block(n_embd, num_heads) for _ in range(n_layer)])\n",
    "        self.ln = nn.LayerNorm(n_embd)\n",
    "        self.proj_i = nn.Linear(n_dims, n_embd)\n",
    "        self.proj_f = nn.Linear(n_embd, n_dims)\n",
    "        self.apply(self._init_weights)\n",
    "    def _init_weights(self, module):\n",
    "        if isinstance(module, nn.Linear):\n",
    "            torch.nn.init.normal_(module.weight, mean=0.0, std=0.02)\n",
    "            if module.bias is not None:\n",
    "                torch.nn.init.zeros_(module.bias)\n",
    "    def forward(self,x):\n",
    "        x_orig = x.clone()\n",
    "        x = self.proj_i(x)\n",
    "        x = self.blocks(x) # batch_size x 2*block_size x n_embd\n",
    "        x = self.ln(x) # batch_size x 2*block_size x n_embd\n",
    "        x = self.proj_f(x) # batch_size x 2*block_size x n_dims\n",
    "        return x[:,::2,0], train_loss(x[:,::2,0], x_orig[:,::2,0])  "
   ]
  },
  {
   "cell_type": "code",
   "execution_count": 11,
   "metadata": {},
   "outputs": [
    {
     "name": "stdout",
     "output_type": "stream",
     "text": [
      "6970\n"
     ]
    }
   ],
   "source": [
    "model = GPTModel().to(device)\n",
    "print(sum(p.numel() for p in model.parameters()))\n",
    "optimizer = torch.optim.AdamW(model.parameters(), lr=learning_rate)"
   ]
  },
  {
   "cell_type": "code",
   "execution_count": 5,
   "metadata": {},
   "outputs": [],
   "source": [
    "@torch.no_grad()\n",
    "def estimate_loss():\n",
    "    out = {}\n",
    "    model.eval()\n",
    "    for split in ['train', 'val']:\n",
    "        losses = torch.zeros(eval_iters)\n",
    "        for i in range(eval_iters):\n",
    "            batch = get_batch(split)\n",
    "            y_hat, loss = model(batch)\n",
    "            losses[i] = loss.item()\n",
    "        out[split] = losses.mean()\n",
    "    model.train()\n",
    "    return out"
   ]
  },
  {
   "cell_type": "code",
   "execution_count": null,
   "metadata": {},
   "outputs": [],
   "source": [
    "for iter in range(max_iters):\n",
    "    # regularly evaluate the loss on train and val \n",
    "    if iter % eval_interval == 0 or iter == max_iters - 1:\n",
    "        losses = estimate_loss()\n",
    "        print(f\"step {iter}, train loss: {losses['train']:.4f}, val loss: {losses['val']:.4f}\")\n",
    "    # sample a batch of data\n",
    "    batch = get_batch('train')\n",
    "    # forward pass\n",
    "    y_hat, loss = model(batch)\n",
    "    # backward pass\n",
    "    optimizer.zero_grad()\n",
    "    loss.backward()\n",
    "    optimizer.step()"
   ]
  },
  {
   "cell_type": "code",
   "execution_count": 30,
   "metadata": {},
   "outputs": [
    {
     "name": "stdout",
     "output_type": "stream",
     "text": [
      "model mse : 6.986701011657715\n",
      "baseline mse : 2.216775374375146e-12\n"
     ]
    }
   ],
   "source": [
    "data_test = get_batch('train')\n",
    "y_true = data_test[:,-1,0].clone()\n",
    "data_test[:,-1,0] = 0\n",
    "y_pred = model(data_test)[0][:,-1]\n",
    "print(f'model mse : {train_loss(y_true,y_pred).item()}')\n",
    "# baseline linear regression\n",
    "X = data_test[:,:-2:2,:]\n",
    "y = data_test[:,1:-1:2,:1]\n",
    "X_test = data_test[:,-2:-1,:]\n",
    "print(f'baseline mse : {train_loss(y_true,(X_test@(torch.pinverse(X.transpose(-1,-2) @ X) @ X.transpose(-1,-2)@y))[:,0,0]).item()}')"
   ]
  }
 ],
 "metadata": {
  "kernelspec": {
   "display_name": "Python 3",
   "language": "python",
   "name": "python3"
  },
  "language_info": {
   "codemirror_mode": {
    "name": "ipython",
    "version": 3
   },
   "file_extension": ".py",
   "mimetype": "text/x-python",
   "name": "python",
   "nbconvert_exporter": "python",
   "pygments_lexer": "ipython3",
   "version": "3.11.7"
  },
  "orig_nbformat": 4
 },
 "nbformat": 4,
 "nbformat_minor": 2
}
